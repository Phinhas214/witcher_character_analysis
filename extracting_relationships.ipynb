{
 "cells": [
  {
   "cell_type": "code",
   "execution_count": 1,
   "id": "b194a894-8e32-4c15-a078-f5f430a83fd3",
   "metadata": {},
   "outputs": [],
   "source": [
    "import pandas as pd\n",
    "import numpy as np \n",
    "import spacy\n",
    "from spacy import displacy\n",
    "import networkx as nx\n",
    "\n",
    "import matplotlib.pyplot as plt"
   ]
  },
  {
   "cell_type": "code",
   "execution_count": 2,
   "id": "c3ead523-bb3c-4665-a8d3-61ab3834298e",
   "metadata": {
    "collapsed": true,
    "jupyter": {
     "outputs_hidden": true
    }
   },
   "outputs": [
    {
     "name": "stdout",
     "output_type": "stream",
     "text": [
      "Collecting en-core-web-sm==3.8.0\n",
      "  Downloading https://github.com/explosion/spacy-models/releases/download/en_core_web_sm-3.8.0/en_core_web_sm-3.8.0-py3-none-any.whl (12.8 MB)\n",
      "\u001b[2K     \u001b[90m━━━━━━━━━━━━━━━━━━━━━━━━━━━━━━━━━━━━━━━━\u001b[0m \u001b[32m12.8/12.8 MB\u001b[0m \u001b[31m16.9 MB/s\u001b[0m eta \u001b[36m0:00:00\u001b[0ma \u001b[36m0:00:01\u001b[0m\n",
      "Installing collected packages: en-core-web-sm\n",
      "Successfully installed en-core-web-sm-3.8.0\n",
      "\u001b[38;5;2m✔ Download and installation successful\u001b[0m\n",
      "You can now load the package via spacy.load('en_core_web_sm')\n"
     ]
    }
   ],
   "source": [
    "!python3 -m spacy download en_core_web_sm"
   ]
  },
  {
   "cell_type": "code",
   "execution_count": 3,
   "id": "3d7ac5aa-fc28-408c-a01b-5b785e12556e",
   "metadata": {},
   "outputs": [],
   "source": [
    "# Load spacy English language model\n",
    "# Named Entity Recognition\n",
    "NER = spacy.load(\"en_core_web_sm\")"
   ]
  },
  {
   "cell_type": "markdown",
   "id": "013394ba-614a-4364-b425-cb9f9dad5bdd",
   "metadata": {},
   "source": [
    "## Load Books"
   ]
  },
  {
   "cell_type": "code",
   "execution_count": 4,
   "id": "8baddaa8-fc4f-42af-a554-8d2920f56793",
   "metadata": {},
   "outputs": [],
   "source": [
    "import os\n",
    "\n",
    "# Get all book files in the data directory\n",
    "all_books = [b for b in os.scandir('data') if '.txt' in b.name]"
   ]
  },
  {
   "cell_type": "code",
   "execution_count": 5,
   "id": "fa07e4a5-ab45-4e5a-91d4-853eebcf76fd",
   "metadata": {},
   "outputs": [
    {
     "data": {
      "text/plain": [
       "[<DirEntry 'I - Blood of Elves.txt'>,\n",
       " <DirEntry 'B - The Sword of Destiny.txt'>,\n",
       " <DirEntry 'II - Times of Contempt.txt'>,\n",
       " <DirEntry 'E - something ends something begins.txt'>,\n",
       " <DirEntry 'IV - The Tower of the Swallow.txt'>,\n",
       " <DirEntry 'C - The Last Wish.txt'>,\n",
       " <DirEntry 'V - The Lady of the Lake.txt'>,\n",
       " <DirEntry 'III - Baptism of Fire.txt'>]"
      ]
     },
     "execution_count": 5,
     "metadata": {},
     "output_type": "execute_result"
    }
   ],
   "source": [
    "all_books "
   ]
  },
  {
   "cell_type": "code",
   "execution_count": 8,
   "id": "e0e1db7f-6e8d-426e-a517-aaadbe5e9aa8",
   "metadata": {},
   "outputs": [],
   "source": [
    "book = all_books[1]\n",
    "book_text = open(book).read()\n",
    "book_doc = NER(book_text)"
   ]
  },
  {
   "cell_type": "code",
   "execution_count": 9,
   "id": "a8bb61b7-3214-40d9-8f55-fdc74e30c11d",
   "metadata": {
    "scrolled": true
   },
   "outputs": [
    {
     "data": {
      "text/html": [
       "<span class=\"tex2jax_ignore\"><div class=\"entities\" style=\"line-height: 2.5; direction: ltr\">﻿The Limits of the Possible<br>I<br>&quot;He's not coming back out, I tell you!&quot; stated a pimply-faced man, shaking his head with<br>finality. &quot;It's been \n",
       "<mark class=\"entity\" style=\"background: #bfe1d9; padding: 0.45em 0.6em; margin: 0 0.25em; line-height: 1; border-radius: 0.35em;\">\n",
       "    an hour and a quarter\n",
       "    <span style=\"font-size: 0.8em; font-weight: bold; line-height: 1; border-radius: 0.35em; vertical-align: middle; margin-left: 0.5rem\">TIME</span>\n",
       "</mark>\n",
       " since he went in. He's done for.&quot;<br>The townsfolk, huddled together in the midst of the ruins and rubble, watched the gaping<br>black hole of the entrance to the tunnel in silence. A fat man dressed in a yellow smock<br>shifted slightly from \n",
       "<mark class=\"entity\" style=\"background: #e4e7d2; padding: 0.45em 0.6em; margin: 0 0.25em; line-height: 1; border-radius: 0.35em;\">\n",
       "    one foot\n",
       "    <span style=\"font-size: 0.8em; font-weight: bold; line-height: 1; border-radius: 0.35em; vertical-align: middle; margin-left: 0.5rem\">QUANTITY</span>\n",
       "</mark>\n",
       " to the other, cleared his throat and pulled his wrinkled cap from<br>his head.<br>&quot;We have to wait a bit longer,&quot; he said as he wiped the sweat from his sparse eyebrows.<br>&quot;Why wait?&quot; snorted pimply, &quot;There in the caves lurks a basilisk, or have you forgotten,<br>burgrave? Anyone goes down there, that's the end of them. Have you forgotten how many<br>have died down there already? What are we waiting for?&quot;<br>&quot;This was the agreement, wasn't it?&quot; murmured the fat man uncertainly.<br>&quot;An agreement you made with a living man, burgrave&quot; said the pimply-faced man's<br>companion, a giant of a man in a leather butcher's apron. &quot;He is now dead, as surely as the<br>sun shines in the sky. It was plain from the beginning that he was headed towards death, like<br>all the others before him. He didn't even take a mirror with him, only a sword - and<br>everybody knows you need a mirror in order to kill a basilisk.&quot;<br>&quot;At least we've saved some coin,&quot; added pimples &quot;there's no one to pay for taking care of the<br>basilisk. You might as well go home. As far as the sorcerer's horse and baggage... well it<br>would be a shame if they went to waste.&quot;<br>&quot;Yes,&quot; said the butcher, &quot;It's a fine old mare and the saddlebags are full. Let's take a look.&quot;<br>&quot;What are you doing?&quot;<br>&quot;Shut up, burgrave. Don't get in the way unless you want a punch in the face,&quot; threatened the<br>pimpled man.<br>&quot;A fine old mare,&quot; repeated the butcher.<br>&quot;Leave the horse alone, my darling.&quot;<br>The butcher slowly turned around towards the stranger who had suddenly appeared from<br>behind a collapsed wall, just at the back of the audience gathered around the tunnel entrance.<br>The stranger had thick curly brown hair and wore a dark brown tunic under a puffy cotton<br>coat and tall riding boots. He had no weapons.<br>\n",
       "<mark class=\"entity\" style=\"background: #e4e7d2; padding: 0.45em 0.6em; margin: 0 0.25em; line-height: 1; border-radius: 0.35em;\">\n",
       "    3\n",
       "    <span style=\"font-size: 0.8em; font-weight: bold; line-height: 1; border-radius: 0.35em; vertical-align: middle; margin-left: 0.5rem\">CARDINAL</span>\n",
       "</mark>\n",
       "<br>&quot;Step away from the horse,&quot; he repeated with a menacing smile. &quot;What have we here? A horse and saddlebags belonging to another and yet you eye them greedily and paw through them. Is that honourable?&quot;<br>\n",
       "<mark class=\"entity\" style=\"background: #feca74; padding: 0.45em 0.6em; margin: 0 0.25em; line-height: 1; border-radius: 0.35em;\">\n",
       "    Pimply\n",
       "    <span style=\"font-size: 0.8em; font-weight: bold; line-height: 1; border-radius: 0.35em; vertical-align: middle; margin-left: 0.5rem\">GPE</span>\n",
       "</mark>\n",
       " slowly slipped a hand inside his overcoat and glanced at the butcher. The butcher gave a nod and signalled toward the crowd, out of which stepped \n",
       "<mark class=\"entity\" style=\"background: #e4e7d2; padding: 0.45em 0.6em; margin: 0 0.25em; line-height: 1; border-radius: 0.35em;\">\n",
       "    two\n",
       "    <span style=\"font-size: 0.8em; font-weight: bold; line-height: 1; border-radius: 0.35em; vertical-align: middle; margin-left: 0.5rem\">CARDINAL</span>\n",
       "</mark>\n",
       " strong, close cropped, youths. Both carried heavy clubs, like those used to stun animals in the slaughterhouse.<br>&quot;Who are you?&quot; demanded the pimply-faced man, whose hand remained hidden inside his overcoat, &quot;to tell us what is and isn't honourable?&quot;<br>&quot;That's none of your business, my dear.&quot;<br>&quot;You carry no weapons.&quot;<br>&quot;That's true,&quot; the stranger's smile grew even more poisonous, &quot;I don't carry weapons.&quot;<br>&quot;That's no good,&quot; pimply drew a long knife out from inside his coat, &quot;Too bad for you you're not armed.&quot;<br>The butcher also drew a blade; a long hunting knife. The other \n",
       "<mark class=\"entity\" style=\"background: #e4e7d2; padding: 0.45em 0.6em; margin: 0 0.25em; line-height: 1; border-radius: 0.35em;\">\n",
       "    two\n",
       "    <span style=\"font-size: 0.8em; font-weight: bold; line-height: 1; border-radius: 0.35em; vertical-align: middle; margin-left: 0.5rem\">CARDINAL</span>\n",
       "</mark>\n",
       " men approached, brandishing their clubs.<br>&quot;I don't carry weapons,&quot; responded the stranger, not budging, &quot;but I'm always armed.&quot;<br>From behind the ruins, \n",
       "<mark class=\"entity\" style=\"background: #e4e7d2; padding: 0.45em 0.6em; margin: 0 0.25em; line-height: 1; border-radius: 0.35em;\">\n",
       "    two\n",
       "    <span style=\"font-size: 0.8em; font-weight: bold; line-height: 1; border-radius: 0.35em; vertical-align: middle; margin-left: 0.5rem\">CARDINAL</span>\n",
       "</mark>\n",
       " young women stepped out lightly and confidently. The crowd quickly parted, retreated then thinned out.<br>The girls smiled, flashing their teeth, and blinked. They had blue stripes tattooed from the corners of their eyes to the tips of their ears. Lynx pelt clad their strong muscles from thigh to hip and their bare arms curved above their mail gauntlets. From behind the mail-clad shoulder of each rose the hilt of a sabre.<br>\n",
       "<mark class=\"entity\" style=\"background: #feca74; padding: 0.45em 0.6em; margin: 0 0.25em; line-height: 1; border-radius: 0.35em;\">\n",
       "    Pimply\n",
       "    <span style=\"font-size: 0.8em; font-weight: bold; line-height: 1; border-radius: 0.35em; vertical-align: middle; margin-left: 0.5rem\">GPE</span>\n",
       "</mark>\n",
       " got down on \n",
       "<mark class=\"entity\" style=\"background: #e4e7d2; padding: 0.45em 0.6em; margin: 0 0.25em; line-height: 1; border-radius: 0.35em;\">\n",
       "    one\n",
       "    <span style=\"font-size: 0.8em; font-weight: bold; line-height: 1; border-radius: 0.35em; vertical-align: middle; margin-left: 0.5rem\">CARDINAL</span>\n",
       "</mark>\n",
       " knee and slowly, very slowly, placed his knife on the ground.<br>From the hole in ruins came a rumble of stones, grinding, and then from the darkness there emerged \n",
       "<mark class=\"entity\" style=\"background: #e4e7d2; padding: 0.45em 0.6em; margin: 0 0.25em; line-height: 1; border-radius: 0.35em;\">\n",
       "    two\n",
       "    <span style=\"font-size: 0.8em; font-weight: bold; line-height: 1; border-radius: 0.35em; vertical-align: middle; margin-left: 0.5rem\">CARDINAL</span>\n",
       "</mark>\n",
       " hands clutching the jagged edge of the wall. Following the hands, a white head appeared, the hair powdered with brick dust, a pale face and then, finally, shoulders, above which stood the hilt of a sword. A murmur escaped the crowd.<br>The alabaster-haired man straightened and pulled a strange shape from the hole; a small, odd looking body covered in dust and blood. Holding the beast by its long lizard-like tail, the man tossed it to the feet of the burgrave without a word. The burgrave jumped backwards and tripped on a fragment of wall, his eyes glued to a curved bird-like beak, webbed crescent-shaped wings and claws like sickles on its scaly feet. Its slashed throat, once carmine, was now a dirty red-brown. Its sunken eyes were glassy.<br>&quot;Here's the basilisk,&quot; said the white-haired man as he brushed the dust from his trousers, &quot;As agreed, that'll be \n",
       "<mark class=\"entity\" style=\"background: #e4e7d2; padding: 0.45em 0.6em; margin: 0 0.25em; line-height: 1; border-radius: 0.35em;\">\n",
       "    200\n",
       "    <span style=\"font-size: 0.8em; font-weight: bold; line-height: 1; border-radius: 0.35em; vertical-align: middle; margin-left: 0.5rem\">CARDINAL</span>\n",
       "</mark>\n",
       " lintars, good ones, not too worn. I will check them, I'm warning you.&quot;<br>\n",
       "<mark class=\"entity\" style=\"background: #e4e7d2; padding: 0.45em 0.6em; margin: 0 0.25em; line-height: 1; border-radius: 0.35em;\">\n",
       "    4\n",
       "    <span style=\"font-size: 0.8em; font-weight: bold; line-height: 1; border-radius: 0.35em; vertical-align: middle; margin-left: 0.5rem\">CARDINAL</span>\n",
       "</mark>\n",
       "<br>With shaking hands, the burgrave produced a large purse. The white-haired man looked around at the townsfolk, his gaze resting on the pimply-faced man, his discarded knife at his feet. He also noticed the man in the brown tunic and the young women in the lynx pelts.<br>&quot;It's always the same,&quot; he said as he took the purse from the burgrave's nervous hands, &quot;I risk my neck for a few measly coins and you, meanwhile, try to rob me. You people never change, damn you to hell!&quot;<br>&quot;We haven't touched your bags,&quot; the butcher muttered, backing away. The men armed with the clubs had long since hidden themselves in the crowd. &quot;Your things have not been disturbed, sir&quot;<br>&quot;I'm glad to hear it,&quot; the white-haired man smiled. At the sight of his smile, which bloomed on his pale face like an open wound, the crowd began to disperse. &quot;And that is why, brother, you have nothing to worry about. Go in peace. But go quickly.&quot;<br>\n",
       "<mark class=\"entity\" style=\"background: #feca74; padding: 0.45em 0.6em; margin: 0 0.25em; line-height: 1; border-radius: 0.35em;\">\n",
       "    Pimply\n",
       "    <span style=\"font-size: 0.8em; font-weight: bold; line-height: 1; border-radius: 0.35em; vertical-align: middle; margin-left: 0.5rem\">GPE</span>\n",
       "</mark>\n",
       ", backing away, was about to run. The spots stood out on his pallid face making him look even more hideous.<br>&quot;Hey! Wait a minute!&quot; called the man in the brown tunic, &quot;You've forgotten about something.&quot;<br>&quot;What's that... sir?&quot;<br>&quot;You pulled a knife on me.&quot;<br>The tallest of the young women, who stood waiting with her long legs apart, turned on her hip. Her sabre, drawn faster than the eye could see, cut through the air. The head of the pimply-faced man flew upwards, tracing an arc before disappearing into the gaping hole. His body rolled stiff and heavy, like a freshly felled tree, amongst the broken rubble. The crowd cried out in unison. The \n",
       "<mark class=\"entity\" style=\"background: #e4e7d2; padding: 0.45em 0.6em; margin: 0 0.25em; line-height: 1; border-radius: 0.35em;\">\n",
       "    second\n",
       "    <span style=\"font-size: 0.8em; font-weight: bold; line-height: 1; border-radius: 0.35em; vertical-align: middle; margin-left: 0.5rem\">ORDINAL</span>\n",
       "</mark>\n",
       " girl, her hand on the hilt of her sabre, turned agilely, covering her back. It was unnecessary - the crowd rushed and stumbled through the ruins towards the town as fast as their legs could carry them. At the head of the crowd, leaping impressively, was the burgrave - slightly ahead of the butcher.<br>&quot;A beautiful strike,&quot; commented the white-haired man coldly as he shielded his eyes from the sun with a black-gloved hand. &quot;A beautiful strike from a \n",
       "<mark class=\"entity\" style=\"background: #c887fb; padding: 0.45em 0.6em; margin: 0 0.25em; line-height: 1; border-radius: 0.35em;\">\n",
       "    Zerrikanian\n",
       "    <span style=\"font-size: 0.8em; font-weight: bold; line-height: 1; border-radius: 0.35em; vertical-align: middle; margin-left: 0.5rem\">NORP</span>\n",
       "</mark>\n",
       " sabre. I humbly bow before the skill and beauty of free warrior women. I am Geralt of Rivia.&quot;<br>&quot;And I...&quot; the unknown man indicated to a faded coat of arms emblazoned on his brown tunic representing \n",
       "<mark class=\"entity\" style=\"background: #e4e7d2; padding: 0.45em 0.6em; margin: 0 0.25em; line-height: 1; border-radius: 0.35em;\">\n",
       "    three\n",
       "    <span style=\"font-size: 0.8em; font-weight: bold; line-height: 1; border-radius: 0.35em; vertical-align: middle; margin-left: 0.5rem\">CARDINAL</span>\n",
       "</mark>\n",
       " black birds aligned on a field of gold, &quot;I am Borch, also called \n",
       "<mark class=\"entity\" style=\"background: #7aecec; padding: 0.45em 0.6em; margin: 0 0.25em; line-height: 1; border-radius: 0.35em;\">\n",
       "    Three Jackdaws\n",
       "    <span style=\"font-size: 0.8em; font-weight: bold; line-height: 1; border-radius: 0.35em; vertical-align: middle; margin-left: 0.5rem\">ORG</span>\n",
       "</mark>\n",
       ". And these are my bodyguards \n",
       "<mark class=\"entity\" style=\"background: #f0d0ff; padding: 0.45em 0.6em; margin: 0 0.25em; line-height: 1; border-radius: 0.35em;\">\n",
       "    Tea and Vea\n",
       "    <span style=\"font-size: 0.8em; font-weight: bold; line-height: 1; border-radius: 0.35em; vertical-align: middle; margin-left: 0.5rem\">WORK_OF_ART</span>\n",
       "</mark>\n",
       ". At least that's what I call them because their true names are a tongue twister. They are both, as you so finely guessed, \n",
       "<mark class=\"entity\" style=\"background: #feca74; padding: 0.45em 0.6em; margin: 0 0.25em; line-height: 1; border-radius: 0.35em;\">\n",
       "    Zerrikanian\n",
       "    <span style=\"font-size: 0.8em; font-weight: bold; line-height: 1; border-radius: 0.35em; vertical-align: middle; margin-left: 0.5rem\">GPE</span>\n",
       "</mark>\n",
       ".&quot;<br>&quot;Thanks to them, or so it would seem, I still have my horse and belongings. My thanks to you, warriors, and also to you, noble lord.&quot;<br>\n",
       "<mark class=\"entity\" style=\"background: #e4e7d2; padding: 0.45em 0.6em; margin: 0 0.25em; line-height: 1; border-radius: 0.35em;\">\n",
       "    5\n",
       "    <span style=\"font-size: 0.8em; font-weight: bold; line-height: 1; border-radius: 0.35em; vertical-align: middle; margin-left: 0.5rem\">CARDINAL</span>\n",
       "</mark>\n",
       "<br>&quot;\n",
       "<mark class=\"entity\" style=\"background: #f0d0ff; padding: 0.45em 0.6em; margin: 0 0.25em; line-height: 1; border-radius: 0.35em;\">\n",
       "    Three Jackdaws\n",
       "    <span style=\"font-size: 0.8em; font-weight: bold; line-height: 1; border-radius: 0.35em; vertical-align: middle; margin-left: 0.5rem\">WORK_OF_ART</span>\n",
       "</mark>\n",
       ". And I'm no gentleman. Is there anything keeping you in this region, \n",
       "<mark class=\"entity\" style=\"background: #7aecec; padding: 0.45em 0.6em; margin: 0 0.25em; line-height: 1; border-radius: 0.35em;\">\n",
       "    Geralt of Rivia\n",
       "    <span style=\"font-size: 0.8em; font-weight: bold; line-height: 1; border-radius: 0.35em; vertical-align: middle; margin-left: 0.5rem\">ORG</span>\n",
       "</mark>\n",
       "?&quot;<br>&quot;Nothing at all.&quot;<br>&quot;\n",
       "<mark class=\"entity\" style=\"background: #f0d0ff; padding: 0.45em 0.6em; margin: 0 0.25em; line-height: 1; border-radius: 0.35em;\">\n",
       "    Perfect\n",
       "    <span style=\"font-size: 0.8em; font-weight: bold; line-height: 1; border-radius: 0.35em; vertical-align: middle; margin-left: 0.5rem\">WORK_OF_ART</span>\n",
       "</mark>\n",
       ". In that case, I have a proposition. Not far from here, at the crossroads on the road to the river-port, is an inn called \n",
       "<mark class=\"entity\" style=\"background: #f0d0ff; padding: 0.45em 0.6em; margin: 0 0.25em; line-height: 1; border-radius: 0.35em;\">\n",
       "    The Pensive Dragon\n",
       "    <span style=\"font-size: 0.8em; font-weight: bold; line-height: 1; border-radius: 0.35em; vertical-align: middle; margin-left: 0.5rem\">WORK_OF_ART</span>\n",
       "</mark>\n",
       ". The food is unequalled throughout this whole region. I'm on my way there now with the intention of dining and spending \n",
       "<mark class=\"entity\" style=\"background: #bfe1d9; padding: 0.45em 0.6em; margin: 0 0.25em; line-height: 1; border-radius: 0.35em;\">\n",
       "    the night\n",
       "    <span style=\"font-size: 0.8em; font-weight: bold; line-height: 1; border-radius: 0.35em; vertical-align: middle; margin-left: 0.5rem\">TIME</span>\n",
       "</mark>\n",
       ". It would be an honour if you would accompany me.&quot;<br>&quot;Borch,&quot; replied \n",
       "<mark class=\"entity\" style=\"background: #aa9cfc; padding: 0.45em 0.6em; margin: 0 0.25em; line-height: 1; border-radius: 0.35em;\">\n",
       "    Geralt\n",
       "    <span style=\"font-size: 0.8em; font-weight: bold; line-height: 1; border-radius: 0.35em; vertical-align: middle; margin-left: 0.5rem\">PERSON</span>\n",
       "</mark>\n",
       ", white head turning away from his horse, looking into the bright eyes of the stranger, &quot;I'd like you to know so that there be no misunderstanding between us. I'm a witcher.&quot;<br>&quot;I thought as much. And you said that as if you were saying, 'I'm a leper.'&quot;<br>&quot;There are some,&quot; \n",
       "<mark class=\"entity\" style=\"background: #aa9cfc; padding: 0.45em 0.6em; margin: 0 0.25em; line-height: 1; border-radius: 0.35em;\">\n",
       "    Geralt\n",
       "    <span style=\"font-size: 0.8em; font-weight: bold; line-height: 1; border-radius: 0.35em; vertical-align: middle; margin-left: 0.5rem\">PERSON</span>\n",
       "</mark>\n",
       " replied calmly, &quot;that would prefer the company of a leper to that of a witcher.&quot;<br>&quot;And there are others,&quot; replied \n",
       "<mark class=\"entity\" style=\"background: #e4e7d2; padding: 0.45em 0.6em; margin: 0 0.25em; line-height: 1; border-radius: 0.35em;\">\n",
       "    Three\n",
       "    <span style=\"font-size: 0.8em; font-weight: bold; line-height: 1; border-radius: 0.35em; vertical-align: middle; margin-left: 0.5rem\">CARDINAL</span>\n",
       "</mark>\n",
       " Jackdaws with a smile, &quot;who would prefer the company of sheep to that of young ladies. In the end, all I can do is pity them. I stand by my proposal.&quot;</div></span>"
      ],
      "text/plain": [
       "<IPython.core.display.HTML object>"
      ]
     },
     "metadata": {},
     "output_type": "display_data"
    }
   ],
   "source": [
    "# Visualize identified entities\n",
    "displacy.render(book_doc[0:2000], style=\"ent\", jupyter=True) "
   ]
  }
 ],
 "metadata": {
  "kernelspec": {
   "display_name": "Python 3 (ipykernel)",
   "language": "python",
   "name": "python3"
  },
  "language_info": {
   "codemirror_mode": {
    "name": "ipython",
    "version": 3
   },
   "file_extension": ".py",
   "mimetype": "text/x-python",
   "name": "python",
   "nbconvert_exporter": "python",
   "pygments_lexer": "ipython3",
   "version": "3.12.2"
  }
 },
 "nbformat": 4,
 "nbformat_minor": 5
}
